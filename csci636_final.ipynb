{
 "cells": [
  {
   "cell_type": "markdown",
   "id": "9b877806-047f-4140-a7bf-8f760357f0ce",
   "metadata": {},
   "source": [
    "## Import Dataset and Libraries"
   ]
  },
  {
   "cell_type": "code",
   "execution_count": 1,
   "id": "2fbecddb-d9af-4555-96a2-081bf1704751",
   "metadata": {},
   "outputs": [],
   "source": [
    "import pandas as pd\n",
    "import numpy as np\n",
    "import matplotlib.pyplot as plt\n",
    "%matplotlib inline\n",
    "import numpy as np\n",
    "from sklearn.model_selection import train_test_split"
   ]
  },
  {
   "cell_type": "code",
   "execution_count": 2,
   "id": "dd2dd01b-4c27-45d2-80ab-b6caaa9b7627",
   "metadata": {},
   "outputs": [],
   "source": [
    "df = pd.read_excel(\"grants_dataset.xlsx\", header=1)"
   ]
  },
  {
   "cell_type": "code",
   "execution_count": 3,
   "id": "2ba42830-d06e-4cbb-b002-c95491b7d220",
   "metadata": {},
   "outputs": [
    {
     "data": {
      "text/html": [
       "<div>\n",
       "<style scoped>\n",
       "    .dataframe tbody tr th:only-of-type {\n",
       "        vertical-align: middle;\n",
       "    }\n",
       "\n",
       "    .dataframe tbody tr th {\n",
       "        vertical-align: top;\n",
       "    }\n",
       "\n",
       "    .dataframe thead th {\n",
       "        text-align: right;\n",
       "    }\n",
       "</style>\n",
       "<table border=\"1\" class=\"dataframe\">\n",
       "  <thead>\n",
       "    <tr style=\"text-align: right;\">\n",
       "      <th></th>\n",
       "      <th>Rank</th>\n",
       "      <th>Grant ID</th>\n",
       "      <th>Grant Number</th>\n",
       "      <th>Title</th>\n",
       "      <th>Title translated</th>\n",
       "      <th>Abstract</th>\n",
       "      <th>Abstract translated</th>\n",
       "      <th>Funding Amount</th>\n",
       "      <th>Currency</th>\n",
       "      <th>Funding Amount in USD</th>\n",
       "      <th>...</th>\n",
       "      <th>ICRP Cancer Types 2</th>\n",
       "      <th>ICRP Cancer Types 3</th>\n",
       "      <th>ICRP Cancer Types 4</th>\n",
       "      <th>ICRP Cancer Types 5</th>\n",
       "      <th>ICRP CSO Categories</th>\n",
       "      <th>ICRP CSO 1</th>\n",
       "      <th>ICRP CSO 2</th>\n",
       "      <th>ICRP CSO 3</th>\n",
       "      <th>ICRP CSO 4</th>\n",
       "      <th>ICRP CSO 5</th>\n",
       "    </tr>\n",
       "  </thead>\n",
       "  <tbody>\n",
       "    <tr>\n",
       "      <th>0</th>\n",
       "      <td>100</td>\n",
       "      <td>grant.8540743</td>\n",
       "      <td>1945924.0</td>\n",
       "      <td>EAGER: Navigating Unmanned Underwater Vehicles...</td>\n",
       "      <td>EAGER: Navigating Unmanned Underwater Vehicles...</td>\n",
       "      <td>In the Arctic, air-sea interactions and biolog...</td>\n",
       "      <td>In the Arctic, air-sea interactions and biolog...</td>\n",
       "      <td>293134</td>\n",
       "      <td>USD</td>\n",
       "      <td>293134</td>\n",
       "      <td>...</td>\n",
       "      <td>NaN</td>\n",
       "      <td>NaN</td>\n",
       "      <td>NaN</td>\n",
       "      <td>NaN</td>\n",
       "      <td>NaN</td>\n",
       "      <td>NaN</td>\n",
       "      <td>NaN</td>\n",
       "      <td>NaN</td>\n",
       "      <td>NaN</td>\n",
       "      <td>NaN</td>\n",
       "    </tr>\n",
       "    <tr>\n",
       "      <th>1</th>\n",
       "      <td>100</td>\n",
       "      <td>grant.8567528</td>\n",
       "      <td>1926648.0</td>\n",
       "      <td>QCIS-FF: A Software Stack for Quantum Computing</td>\n",
       "      <td>QCIS-FF: A Software Stack for Quantum Computing</td>\n",
       "      <td>Quantum computers have emerged quickly and qua...</td>\n",
       "      <td>Quantum computers have emerged quickly and qua...</td>\n",
       "      <td>250000</td>\n",
       "      <td>USD</td>\n",
       "      <td>250000</td>\n",
       "      <td>...</td>\n",
       "      <td>NaN</td>\n",
       "      <td>NaN</td>\n",
       "      <td>NaN</td>\n",
       "      <td>NaN</td>\n",
       "      <td>NaN</td>\n",
       "      <td>NaN</td>\n",
       "      <td>NaN</td>\n",
       "      <td>NaN</td>\n",
       "      <td>NaN</td>\n",
       "      <td>NaN</td>\n",
       "    </tr>\n",
       "    <tr>\n",
       "      <th>2</th>\n",
       "      <td>100</td>\n",
       "      <td>grant.8539665</td>\n",
       "      <td>1926585.0</td>\n",
       "      <td>QCIS-FF: Quantum Computer Systems Faculty Fell...</td>\n",
       "      <td>QCIS-FF: Quantum Computer Systems Faculty Fell...</td>\n",
       "      <td>Quantum computing is at the cusp of a revoluti...</td>\n",
       "      <td>Quantum computing is at the cusp of a revoluti...</td>\n",
       "      <td>250000</td>\n",
       "      <td>USD</td>\n",
       "      <td>250000</td>\n",
       "      <td>...</td>\n",
       "      <td>NaN</td>\n",
       "      <td>NaN</td>\n",
       "      <td>NaN</td>\n",
       "      <td>NaN</td>\n",
       "      <td>NaN</td>\n",
       "      <td>NaN</td>\n",
       "      <td>NaN</td>\n",
       "      <td>NaN</td>\n",
       "      <td>NaN</td>\n",
       "      <td>NaN</td>\n",
       "    </tr>\n",
       "  </tbody>\n",
       "</table>\n",
       "<p>3 rows × 63 columns</p>\n",
       "</div>"
      ],
      "text/plain": [
       "   Rank       Grant ID  Grant Number  \\\n",
       "0   100  grant.8540743     1945924.0   \n",
       "1   100  grant.8567528     1926648.0   \n",
       "2   100  grant.8539665     1926585.0   \n",
       "\n",
       "                                               Title  \\\n",
       "0  EAGER: Navigating Unmanned Underwater Vehicles...   \n",
       "1    QCIS-FF: A Software Stack for Quantum Computing   \n",
       "2  QCIS-FF: Quantum Computer Systems Faculty Fell...   \n",
       "\n",
       "                                    Title translated  \\\n",
       "0  EAGER: Navigating Unmanned Underwater Vehicles...   \n",
       "1    QCIS-FF: A Software Stack for Quantum Computing   \n",
       "2  QCIS-FF: Quantum Computer Systems Faculty Fell...   \n",
       "\n",
       "                                            Abstract  \\\n",
       "0  In the Arctic, air-sea interactions and biolog...   \n",
       "1  Quantum computers have emerged quickly and qua...   \n",
       "2  Quantum computing is at the cusp of a revoluti...   \n",
       "\n",
       "                                 Abstract translated  Funding Amount Currency  \\\n",
       "0  In the Arctic, air-sea interactions and biolog...          293134      USD   \n",
       "1  Quantum computers have emerged quickly and qua...          250000      USD   \n",
       "2  Quantum computing is at the cusp of a revoluti...          250000      USD   \n",
       "\n",
       "   Funding Amount in USD  ... ICRP Cancer Types 2  ICRP Cancer Types 3  \\\n",
       "0                 293134  ...                 NaN                  NaN   \n",
       "1                 250000  ...                 NaN                  NaN   \n",
       "2                 250000  ...                 NaN                  NaN   \n",
       "\n",
       "  ICRP Cancer Types 4  ICRP Cancer Types 5 ICRP CSO Categories ICRP CSO 1  \\\n",
       "0                 NaN                  NaN                 NaN        NaN   \n",
       "1                 NaN                  NaN                 NaN        NaN   \n",
       "2                 NaN                  NaN                 NaN        NaN   \n",
       "\n",
       "  ICRP CSO 2 ICRP CSO 3 ICRP CSO 4 ICRP CSO 5  \n",
       "0        NaN        NaN        NaN        NaN  \n",
       "1        NaN        NaN        NaN        NaN  \n",
       "2        NaN        NaN        NaN        NaN  \n",
       "\n",
       "[3 rows x 63 columns]"
      ]
     },
     "execution_count": 3,
     "metadata": {},
     "output_type": "execute_result"
    }
   ],
   "source": [
    "df.head(3)"
   ]
  },
  {
   "cell_type": "code",
   "execution_count": 4,
   "id": "196aeb9e-6f9a-453e-b05c-4377aaa0aa2a",
   "metadata": {},
   "outputs": [
    {
     "data": {
      "text/plain": [
       "Rank                    0\n",
       "Grant ID                0\n",
       "Grant Number          116\n",
       "Title                   0\n",
       "Title translated        0\n",
       "                    ...  \n",
       "ICRP CSO 1          49890\n",
       "ICRP CSO 2          50000\n",
       "ICRP CSO 3          49976\n",
       "ICRP CSO 4          49998\n",
       "ICRP CSO 5          50000\n",
       "Length: 63, dtype: int64"
      ]
     },
     "execution_count": 4,
     "metadata": {},
     "output_type": "execute_result"
    }
   ],
   "source": [
    "df.isna().sum()"
   ]
  },
  {
   "cell_type": "markdown",
   "id": "7433185c-c364-43c9-b6c4-f6eb0fb949a0",
   "metadata": {},
   "source": [
    "## Data Cleaning"
   ]
  },
  {
   "cell_type": "code",
   "execution_count": 5,
   "id": "80c77fbd-be3d-4097-a010-34d6bf23a60b",
   "metadata": {},
   "outputs": [],
   "source": [
    "#Drop columns not used in analysis\n",
    "df = df.iloc[:,:33]\n",
    "\n",
    "#Drop Currency and Funding Amount Columns \n",
    "df = df.drop([\"Currency\", \"Funding Amount\", \"Grant Number\", \"Research Organization - standardized\", \"Rank\"], axis = 1)"
   ]
  },
  {
   "cell_type": "code",
   "execution_count": 6,
   "id": "feeabd8d-cf74-453f-9293-e746bf9d9c64",
   "metadata": {},
   "outputs": [
    {
     "name": "stdout",
     "output_type": "stream",
     "text": [
      "0\n",
      "int64\n"
     ]
    }
   ],
   "source": [
    "#Inspect Funding Amount in USA column \n",
    "print((df[\"Funding Amount in USD\"].isnull() == True).sum())\n",
    "\n",
    "#check datatype for this column \n",
    "print(df[\"Funding Amount in USD\"].dtype)\n",
    "\n",
    "#Rename column\n",
    "df.rename(columns = {\"Funding Amount in USD\": \"funding_amount\"}, inplace = True)\n",
    "#There are no missing values in this column "
   ]
  },
  {
   "cell_type": "code",
   "execution_count": 7,
   "id": "1e5a03f4-2660-473e-8d80-31da1a00d8a7",
   "metadata": {},
   "outputs": [],
   "source": [
    "#Rename columns to allow for easy data manipulation \n",
    "df.rename(columns = {\"Research Organization - original\": \"research_org\", \"Start Date\": \"start_date\", \"Start Year\": \"start_year\", \"End Date\": \"end_date\", \"End Year\": \"end_year\", \"Grant ID\": \"grant_id\"},\n",
    "          inplace = True)"
   ]
  },
  {
   "cell_type": "code",
   "execution_count": 8,
   "id": "b7091864-084e-4aff-9909-cf22d91853e6",
   "metadata": {},
   "outputs": [],
   "source": [
    "#Drop columns that wouldnt be used in models \n",
    "df = df.drop([\"Resulting publications\", \"Source Linkout\", \"Dimensions URL\", \"FOR (ANZSRC) Categories\", \"Title\", \"Abstract\"], axis=1)\n",
    "\n",
    "#clean grant_id column to get rid of the prefix \"grant_id\"\n",
    "# remove the unwanted parts of the id in \"grant_id\" column\n",
    "df['grant_id'] = df['grant_id'].map(lambda x: x.lstrip(\"grant.\"))\n",
    "\n",
    "# rename \"Title\" to \"title\"\n",
    "df = df.rename(columns={\"Title translated\": \"title\"})\n",
    "\n",
    "# rename \"Abstract translated\"to \"abstract\"\n",
    "df = df.rename(columns={\"Abstract translated\": \"abstract\"})\n",
    "\n",
    "#Rename columns to allow for easy data manipulation \n",
    "df.rename(columns = {\"GRID ID\": \"grid_id\", 'City of Research organization': \"research_city\", \"Researchers\": \"researchers\", \"State of Research organization\": \"research_state\", \"Funder\": \"funder\", \"Funder Group\": \"funder_group\", \"Funder Country\": \"funder_country\"}, inplace = True)"
   ]
  },
  {
   "cell_type": "code",
   "execution_count": 9,
   "id": "6d4b0c0f-0365-4752-a1d4-c5d37def335d",
   "metadata": {},
   "outputs": [
    {
     "data": {
      "text/plain": [
       "(50000, 22)"
      ]
     },
     "execution_count": 9,
     "metadata": {},
     "output_type": "execute_result"
    }
   ],
   "source": [
    "df.shape"
   ]
  },
  {
   "cell_type": "markdown",
   "id": "540f3ad3-5f19-49da-98fd-ccd493db2baa",
   "metadata": {},
   "source": [
    "## Feature Extraction"
   ]
  },
  {
   "cell_type": "code",
   "execution_count": 10,
   "id": "3ed81929-d252-4371-be32-8ec6064a266c",
   "metadata": {},
   "outputs": [],
   "source": [
    "# get the length of both the title and abstarct cells, put in there own column\n",
    "df['title_len'] = df['title'].str.split().str.len()\n",
    "df['abstract_len'] = df['abstract'].str.split().str.len()"
   ]
  },
  {
   "cell_type": "code",
   "execution_count": 11,
   "id": "3bdbb60d-5235-4ff2-b95b-d2820e4a787e",
   "metadata": {},
   "outputs": [],
   "source": [
    "# change columns to datatime format for easy subtraction\n",
    "df['duration'] = (pd.to_datetime(df['end_date']) - pd.to_datetime(df['start_date'])).dt.days"
   ]
  },
  {
   "cell_type": "code",
   "execution_count": 12,
   "id": "997a0c56-6011-4438-b7a1-7910ce83733b",
   "metadata": {},
   "outputs": [],
   "source": [
    "# list of the top twenty institutions in America\n",
    "top_twenty_unis = [\"Princeton University\", \"Columbia University\", \"Harvard University\", \"Massachusetts Institue of Technology\",\n",
    "       \"Yale University\", \"Stanford University\", \"University of Chicago\", \"University of Pennsylvania\",\n",
    "       \"California Institute of Technology\", \"Duke University\", \"Johns Hopkins University\", \"Northwestern University\",\n",
    "       \"Dartmouth College\", \"Brown University\", \"Vanderbilt University\", \"Washington University in St. Louis\",\n",
    "       \"Cornell University\", \"Rice University\", \"University of Notre Dame\", \"University of California Los Angeles\"]\n",
    "# make the list in a pattern that easy to parse\n",
    "pattern = \"|\".join(top_twenty_unis)\n",
    "\n",
    "# create a column with a boolean value if the research organization is in the top twenty\n",
    "df['is_top_twenty'] = df['research_org'].str.contains(pattern)\n",
    "df[\"is_top_twenty\"] = df[\"is_top_twenty\"].astype(int) # make it show as 0 or 1"
   ]
  },
  {
   "cell_type": "code",
   "execution_count": 13,
   "id": "a521dfcb-bb05-455a-a5c2-12d072e2220b",
   "metadata": {},
   "outputs": [],
   "source": [
    "# count the number of researchers\n",
    "df['no_researchers'] = df['researchers'].str.count(';') + 1"
   ]
  },
  {
   "cell_type": "code",
   "execution_count": 14,
   "id": "25287e2f-4337-45ca-80cf-0db00e64667d",
   "metadata": {},
   "outputs": [],
   "source": [
    "# list of the top twenty institutions in America\n",
    "college_or_uni = [\"College\", \"University\"]\n",
    "# make the list in a pattern that easy to parse\n",
    "pattern = \"|\".join(college_or_uni)\n",
    "\n",
    "# create a column with a boolean value if the research organization is in the top twenty\n",
    "df['is_academic'] = df['research_org'].str.contains(pattern)\n",
    "df[\"is_academic\"] = df[\"is_academic\"].astype(int) # make it show as 0 or 1"
   ]
  },
  {
   "cell_type": "code",
   "execution_count": 15,
   "id": "f566d0ef-9c50-4698-98d3-a36e85138a6e",
   "metadata": {},
   "outputs": [
    {
     "data": {
      "text/plain": [
       "count    5.000000e+04\n",
       "mean     4.742319e+05\n",
       "std      3.652333e+06\n",
       "min      0.000000e+00\n",
       "25%      1.000010e+05\n",
       "50%      2.472350e+05\n",
       "75%      4.457380e+05\n",
       "max      3.804671e+08\n",
       "Name: funding_amount, dtype: float64"
      ]
     },
     "execution_count": 15,
     "metadata": {},
     "output_type": "execute_result"
    }
   ],
   "source": [
    "#Inpect funding data\n",
    "df[\"funding_amount\"].describe()"
   ]
  },
  {
   "cell_type": "code",
   "execution_count": 16,
   "id": "42de112e-202a-4b93-b58c-e1806f95b84c",
   "metadata": {},
   "outputs": [],
   "source": [
    "def make_funding_bin(x):\n",
    "    \n",
    "    if x == 0:\n",
    "        return \"bin_1\"\n",
    "    \n",
    "    elif (x > 0 and x < 100000):\n",
    "        return \"bin_2\"\n",
    "    \n",
    "    elif (x >= 100000 and x < 300000):\n",
    "        return \"bin_3\"\n",
    "\n",
    "    elif (x >= 300000):\n",
    "        return \"bin_4\"\n",
    "    \n",
    "df['funding_bin_1'] = df['funding_amount'].apply(make_funding_bin)\n",
    "\n",
    "#Use qcut to make an equal frequency binning\n",
    "df['funding_bin_2'] = pd.qcut(df['funding_amount'], q=6)\n",
    "\n",
    "df['funding_bin_2'] = df['funding_bin_2'].astype(str)"
   ]
  },
  {
   "cell_type": "code",
   "execution_count": 17,
   "id": "d242a119-bf17-44b8-8129-d6626edda4bb",
   "metadata": {},
   "outputs": [],
   "source": [
    "# extract the first 2 characters from the subject\n",
    "df['for_1_abbr'] = df['FOR 1'].str[:2]"
   ]
  },
  {
   "cell_type": "code",
   "execution_count": 18,
   "id": "0c941796-d0f4-47ab-8dfa-1cf6b835eb2f",
   "metadata": {},
   "outputs": [],
   "source": [
    "def bin_fields (x):\n",
    "    \n",
    "    if x == \"09\":\n",
    "        return \"engineering\"\n",
    "    elif x in [\"08\", \"02\" \"01\"]:\n",
    "        return \"computational\"\n",
    "    elif x in [\"11\", \"06\", \"03\"]:\n",
    "        return \"health and medicine\"\n",
    "    elif x in [\"04\", \"05\", \"07\"]:\n",
    "        return \"natural science\"\n",
    "    else:\n",
    "        return \"other\"\n",
    "    \n",
    "df['field_bins'] = df['for_1_abbr'].apply(bin_fields)"
   ]
  },
  {
   "cell_type": "code",
   "execution_count": 19,
   "id": "560b56e3-f37c-478c-bf54-a07754777eea",
   "metadata": {},
   "outputs": [],
   "source": [
    "#Drop more columns that wouldnt be used in models \n",
    "df = df.drop([\"FOR 2\", \"FOR 3\", \"FOR 3\", \"FOR 4\", \"FOR 5\"], axis=1)"
   ]
  },
  {
   "cell_type": "code",
   "execution_count": 20,
   "id": "7c262eed-85ac-41ae-9707-ad176573b8c4",
   "metadata": {},
   "outputs": [],
   "source": [
    "#Drops rows with null values\n",
    "df = df.dropna()"
   ]
  },
  {
   "cell_type": "code",
   "execution_count": 21,
   "id": "4d92ecff-12f9-4a41-8be1-f27f44ab1c04",
   "metadata": {},
   "outputs": [],
   "source": [
    "#One hot-encode columns for final analysis \n",
    "df_final = pd.get_dummies(df.copy(), columns = ['funder', 'field_bins'])"
   ]
  },
  {
   "cell_type": "markdown",
   "id": "c70452be-257b-4f60-8af1-986295f81a67",
   "metadata": {},
   "source": [
    "## Classification "
   ]
  },
  {
   "cell_type": "code",
   "execution_count": 22,
   "id": "97ca2bb4-cb65-49f1-a370-d22d0d4076ff",
   "metadata": {},
   "outputs": [],
   "source": [
    "#Import libraries\n",
    "import numpy as np\n",
    "from sklearn.ensemble import RandomForestClassifier\n",
    "from sklearn import datasets\n",
    "from sklearn.model_selection import train_test_split\n",
    "from sklearn.feature_selection import SelectFromModel\n",
    "from sklearn.metrics import accuracy_score\n",
    "from sklearn.metrics import confusion_matrix\n",
    "\n",
    "from sklearn.naive_bayes import GaussianNB \n",
    "from sklearn.model_selection import cross_val_score\n",
    "from imblearn.over_sampling import RandomOverSampler\n",
    "\n",
    "from sklearn.linear_model import LogisticRegression\n",
    "from sklearn.metrics import confusion_matrix\n",
    "from sklearn import metrics\n",
    "\n",
    "# Import necessary modules\n",
    "from sklearn.neighbors import KNeighborsClassifier\n",
    "from sklearn.model_selection import train_test_split"
   ]
  },
  {
   "cell_type": "code",
   "execution_count": 23,
   "id": "f5966083-2aac-45b3-a25a-868502603d64",
   "metadata": {},
   "outputs": [],
   "source": [
    "df_final = df_final.drop([\"grant_id\", \"title\", \"abstract\", \"end_date\",\n",
    "                          \"researchers\", \"research_org\", \"grid_id\", \"research_city\", \n",
    "                          \"research_state\", \"Country of Research organization\", \"funder_group\", \n",
    "                          \"start_date\", \"funder_country\", 'FOR 1', 'for_1_abbr'], axis=1)"
   ]
  },
  {
   "cell_type": "markdown",
   "id": "84ef1831-6090-4f69-a7b6-80839ebe0bfc",
   "metadata": {},
   "source": [
    "### Feature Selection Using Random Forests"
   ]
  },
  {
   "cell_type": "code",
   "execution_count": 25,
   "id": "64007ffb-91f2-43df-b07b-eb25243d4b59",
   "metadata": {},
   "outputs": [],
   "source": [
    "y = df_final[\"funding_bin_1\"]\n",
    "X = (df_final.drop([\"funding_bin_1\", \"funding_bin_2\", \"funding_amount\"], axis = 1))"
   ]
  },
  {
   "cell_type": "code",
   "execution_count": 26,
   "id": "8ff69b98-4fed-4970-8335-e969df46643d",
   "metadata": {},
   "outputs": [],
   "source": [
    "X_train, X_test, y_train, y_test = train_test_split(X, y, test_size=0.4, random_state=0)"
   ]
  },
  {
   "cell_type": "code",
   "execution_count": 27,
   "id": "5bb5f148-ada0-4cfc-a961-b5969c1b0171",
   "metadata": {},
   "outputs": [],
   "source": [
    "feat_labels = np.array((df_final.drop([\"funding_bin_1\", \"funding_bin_2\", \"funding_amount\"], axis = 1)).columns)"
   ]
  },
  {
   "cell_type": "code",
   "execution_count": 28,
   "id": "cda0bf66-7ffd-458c-9019-90748bc3d092",
   "metadata": {},
   "outputs": [
    {
     "name": "stdout",
     "output_type": "stream",
     "text": [
      "('start_year', 0.0969085345458201)\n",
      "('end_year', 0.1111306806064073)\n",
      "('title_len', 0.12135767607007959)\n",
      "('abstract_len', 0.2083790405316093)\n",
      "('duration', 0.2894444300533851)\n",
      "('is_top_twenty', 0.012716078616444642)\n",
      "('no_researchers', 0.06233571035808061)\n",
      "('is_academic', 0.017490406422552826)\n",
      "('funder_Directorate for Biological Sciences', 0.00378140415299588)\n",
      "('funder_Directorate for Computer & Information Science & Engineering', 0.015121456171526854)\n",
      "('funder_Directorate for Education & Human Resources', 0.006229640147969052)\n",
      "('funder_Directorate for Engineering', 0.008268499553227561)\n",
      "('funder_Directorate for Geosciences', 0.0041203586828300574)\n",
      "('funder_Directorate for Mathematical & Physical Sciences', 0.010110381080692721)\n",
      "('funder_Directorate for Social, Behavioral & Economic Sciences', 0.003336533538654627)\n",
      "('funder_National Science Foundation', 0.00015451181514822995)\n",
      "('funder_Office of Budget, Finance and Award Management', 5.949673756409615e-06)\n",
      "('funder_Office of Inspector General', 5.097839882470726e-05)\n",
      "('funder_Office of the Director', 0.007165412738094243)\n",
      "('field_bins_computational', 0.00812071914572601)\n",
      "('field_bins_engineering', 0.003082993498765672)\n",
      "('field_bins_health and medicine', 0.002393573321635139)\n",
      "('field_bins_natural science', 0.0012411439096403902)\n",
      "('field_bins_other', 0.007053886966133004)\n"
     ]
    }
   ],
   "source": [
    "# Create a random forest classifier\n",
    "clf = RandomForestClassifier(n_estimators=10000, random_state=0, n_jobs=-1)\n",
    "\n",
    "# Train the classifier\n",
    "clf.fit(X_train, y_train)\n",
    "\n",
    "# Print the name and gini importance of each feature\n",
    "for feature in zip(feat_labels, clf.feature_importances_):\n",
    "    print(feature)"
   ]
  },
  {
   "cell_type": "markdown",
   "id": "2616e5fe",
   "metadata": {},
   "source": [
    "### Naive Bayes"
   ]
  },
  {
   "cell_type": "code",
   "execution_count": 78,
   "id": "1241d9db",
   "metadata": {},
   "outputs": [],
   "source": [
    "# y = df_final[\"funding_bin_1\"].values\n",
    "# X = df_final.copy().drop([\"funding_bin_1\", \"funding_bin_2\", \"funding_amount\"], axis = 1)\n",
    "\n",
    "y =(df_final['funding_bin_1']).values\n",
    "X = (df_final[['duration', 'is_top_twenty', 'no_researchers', 'abstract_len',\n",
    "               'title_len', 'start_year', 'end_year', 'is_academic', 'funder_Directorate for Computer & Information Science & Engineering'\n",
    "              ,'funder_Directorate for Mathematical & Physical Sciences']]).values\n",
    "\n",
    "#split dataset into training and test sets\n",
    "X_train, X_test, y_train, y_test = train_test_split(X, y, test_size = 0.3)"
   ]
  },
  {
   "cell_type": "code",
   "execution_count": 79,
   "id": "cfe1c9b5",
   "metadata": {},
   "outputs": [
    {
     "name": "stdout",
     "output_type": "stream",
     "text": [
      "[[   0   12    2    0]\n",
      " [   0 2150  819  384]\n",
      " [   0  916 2006 2038]\n",
      " [   0  288  919 4878]]\n",
      "Accuracy:  0.6268387454898695\n"
     ]
    }
   ],
   "source": [
    "gnb = GaussianNB(priors=None, var_smoothing=1e-9)\n",
    "gnb.fit(X_train, y_train)\n",
    "\n",
    "y_predict = gnb.predict(X_test)\n",
    "\n",
    "conf_mat = confusion_matrix(y_test, y_predict, labels=['bin_1', 'bin_2', 'bin_3', 'bin_4'])\n",
    "print(conf_mat)\n",
    "\n",
    "print('Accuracy: ', accuracy_score(y_test, y_predict))"
   ]
  },
  {
   "cell_type": "code",
   "execution_count": 80,
   "id": "06f1a356",
   "metadata": {},
   "outputs": [
    {
     "name": "stdout",
     "output_type": "stream",
     "text": [
      "Cross-validation scores:[0.62042819 0.61626524 0.62185874 0.63137546 0.62141264]\n",
      "Average cross-validation score: 0.6223\n"
     ]
    }
   ],
   "source": [
    "scores = cross_val_score(gnb, X_train, y_train, cv = 5, scoring='accuracy')\n",
    "\n",
    "print('Cross-validation scores:{}'.format(scores))\n",
    "print('Average cross-validation score: {:.4f}'.format(scores.mean()))"
   ]
  },
  {
   "cell_type": "markdown",
   "id": "b275894c-825b-4666-8bfb-fa83b9dcc743",
   "metadata": {},
   "source": [
    "#### Naive Bayes with Oversampling"
   ]
  },
  {
   "cell_type": "code",
   "execution_count": 81,
   "id": "dc496758-efeb-4b1f-9195-aae1a1165208",
   "metadata": {},
   "outputs": [
    {
     "name": "stdout",
     "output_type": "stream",
     "text": [
      "[[4030  977  444  769]\n",
      " [1215 1242  541  245]\n",
      " [ 886  535 1690 1818]\n",
      " [ 492  138  797 4692]]\n",
      "Accuracy:  0.5681829262347033\n",
      "Cross-validation scores:[0.54910155 0.55709957 0.57120468 0.554592   0.55009926]\n",
      "Average cross-validation score: 0.5564\n"
     ]
    }
   ],
   "source": [
    "oversample = RandomOverSampler(sampling_strategy= 'minority')\n",
    "X_over, y_over = oversample.fit_resample(X, y)\n",
    "\n",
    "X_train_o, X_test_o, y_train_o, y_test_o = train_test_split(X_over, y_over, test_size = 0.3)\n",
    "\n",
    "gnb = GaussianNB(priors=None, var_smoothing=1e-9)\n",
    "gnb.fit(X_train_o, y_train_o)\n",
    "\n",
    "y_predict_o = gnb.predict(X_test_o)\n",
    "\n",
    "conf_mat = confusion_matrix(y_test_o, y_predict_o, labels=['bin_1', 'bin_2', 'bin_3', 'bin_4'])\n",
    "print(conf_mat)\n",
    "\n",
    "print('Accuracy: ',accuracy_score(y_test_o, y_predict_o))\n",
    "\n",
    "scores = cross_val_score(gnb, X_train_o, y_train_o, cv = 5, scoring='accuracy')\n",
    "\n",
    "print('Cross-validation scores:{}'.format(scores))\n",
    "print('Average cross-validation score: {:.4f}'.format(scores.mean()))"
   ]
  },
  {
   "cell_type": "markdown",
   "id": "43bd8cb3",
   "metadata": {},
   "source": [
    "### Logistic Regression"
   ]
  },
  {
   "cell_type": "code",
   "execution_count": 82,
   "id": "35359bb4",
   "metadata": {},
   "outputs": [],
   "source": [
    "logreg = LogisticRegression(solver='lbfgs', multi_class='multinomial', max_iter=10000)\n",
    "\n",
    "logreg.fit(X_train, y_train)\n",
    "y_pred = logreg.predict(X_test)"
   ]
  },
  {
   "cell_type": "code",
   "execution_count": 83,
   "id": "ad2edde8",
   "metadata": {},
   "outputs": [
    {
     "name": "stdout",
     "output_type": "stream",
     "text": [
      "[[   0   12    1    1]\n",
      " [   0 2192  903  258]\n",
      " [   0  769 2463 1728]\n",
      " [   0  216 1288 4581]]\n",
      "Accuracy:  0.6408548431862336\n"
     ]
    }
   ],
   "source": [
    "conf_mat = confusion_matrix(y_test, y_pred, labels=['bin_1', 'bin_2', 'bin_3', 'bin_4'])\n",
    "print(conf_mat)\n",
    "\n",
    "print('Accuracy: ', accuracy_score(y_test, y_pred))"
   ]
  },
  {
   "cell_type": "code",
   "execution_count": 84,
   "id": "a21b7121",
   "metadata": {},
   "outputs": [
    {
     "name": "stdout",
     "output_type": "stream",
     "text": [
      "Cross-validation scores:[0.64644663 0.64005352 0.63851301 0.64594796 0.63806691]\n",
      "Average cross-validation score: 0.6418\n"
     ]
    }
   ],
   "source": [
    "scores = cross_val_score(logreg, X_train, y_train, cv = 5, scoring='accuracy')\n",
    "\n",
    "print('Cross-validation scores:{}'.format(scores))\n",
    "print('Average cross-validation score: {:.4f}'.format(scores.mean()))"
   ]
  },
  {
   "cell_type": "markdown",
   "id": "04706ef2-1270-4cd8-807a-6c0239428cda",
   "metadata": {},
   "source": [
    "#### Logistic Regression with Oversampling"
   ]
  },
  {
   "cell_type": "code",
   "execution_count": 85,
   "id": "348c32f0-9718-4afb-9fd4-d85a4c769039",
   "metadata": {},
   "outputs": [
    {
     "name": "stdout",
     "output_type": "stream",
     "text": [
      "[[4370  325  775  750]\n",
      " [2059  319  557  308]\n",
      " [1262   67 1748 1852]\n",
      " [ 496   14  963 4646]]\n",
      "Accuracy:  0.5403442055482424\n",
      "Cross-validation scores:[0.54356456 0.5363076  0.55114408 0.53975551 0.54821858]\n",
      "Average cross-validation score: 0.5438\n"
     ]
    }
   ],
   "source": [
    "logreg = LogisticRegression(solver='lbfgs', multi_class='multinomial', max_iter=10000)\n",
    "\n",
    "logreg.fit(X_train_o, y_train_o)\n",
    "y_pred_o = logreg.predict(X_test_o)\n",
    "\n",
    "\n",
    "conf_mat = confusion_matrix(y_test_o, y_pred_o, labels=['bin_1', 'bin_2', 'bin_3', 'bin_4'])\n",
    "print(conf_mat)\n",
    "\n",
    "print('Accuracy: ', accuracy_score(y_test_o, y_pred_o))\n",
    "\n",
    "scores = cross_val_score(logreg, X_train_o, y_train_o, cv = 5, scoring='accuracy')\n",
    "\n",
    "print('Cross-validation scores:{}'.format(scores))\n",
    "print('Average cross-validation score: {:.4f}'.format(scores.mean()))"
   ]
  },
  {
   "cell_type": "markdown",
   "id": "fe644a6f-1a63-4309-930a-8a2581007b37",
   "metadata": {},
   "source": [
    "#### K Nearest Neighbours "
   ]
  },
  {
   "cell_type": "code",
   "execution_count": 107,
   "id": "e1ba6123-51de-4b95-91f9-ec490787eeeb",
   "metadata": {},
   "outputs": [],
   "source": [
    "#temporarily drop categorical columns \n",
    "# y = df_final[\"funding_bin_1\"].values\n",
    "# X = df_final.copy().drop([\"funding_bin_1\", \"funding_bin_2\", \"funding_amount\"], axis = 1).values\n",
    "\n",
    "y =(df_final['funding_bin_1']).values\n",
    "X = (df_final[['duration', 'is_top_twenty', 'no_researchers', 'abstract_len',\n",
    "               'title_len', 'start_year', 'end_year', 'is_academic', 'funder_Directorate for Computer & Information Science & Engineering'\n",
    "              ,'funder_Directorate for Mathematical & Physical Sciences']]).values"
   ]
  },
  {
   "cell_type": "code",
   "execution_count": 108,
   "id": "df7cc692-76da-41bb-94c0-a05fec9372bc",
   "metadata": {},
   "outputs": [],
   "source": [
    "# Split into training and test set\n",
    "X_train, X_test, y_train, y_test = train_test_split(\n",
    "             X, y, test_size = 0.3)"
   ]
  },
  {
   "cell_type": "code",
   "execution_count": 109,
   "id": "d550bd86-6030-4bd0-83f8-c7bf5026ed06",
   "metadata": {},
   "outputs": [],
   "source": [
    "knn = KNeighborsClassifier(n_neighbors=11)\n",
    " \n",
    "knn.fit(X_train, y_train)\n",
    " \n",
    "# Predict on dataset which model has not seen before\n",
    "y_pred = knn.predict(X_test)"
   ]
  },
  {
   "cell_type": "code",
   "execution_count": 110,
   "id": "93f2bede-db8e-468c-8471-87e923828a55",
   "metadata": {},
   "outputs": [
    {
     "name": "stdout",
     "output_type": "stream",
     "text": [
      "[[   0    8    2    2]\n",
      " [   0 2242  831  266]\n",
      " [   0  851 2293 1821]\n",
      " [   0  262 1504 4330]]\n",
      "0.61511240632806\n"
     ]
    }
   ],
   "source": [
    "conf_mat = confusion_matrix(y_test, y_pred, labels=['bin_1', 'bin_2', 'bin_3', 'bin_4'])\n",
    "print(conf_mat)\n",
    "\n",
    "print(knn.score(X_test, y_test))"
   ]
  },
  {
   "cell_type": "code",
   "execution_count": 42,
   "id": "2ba97991-b8fb-4312-ba2e-6ee7ff1d1e32",
   "metadata": {},
   "outputs": [
    {
     "data": {
      "image/png": "[encoded data removed]",
      "text/plain": [
       "<Figure size 432x288 with 1 Axes>"
      ]
     },
     "metadata": {
      "needs_background": "light"
     },
     "output_type": "display_data"
    }
   ],
   "source": [
    "#find the best k value \n",
    "\n",
    "neighbors = np.arange(5,12)\n",
    "train_accuracy = np.empty(len(neighbors))\n",
    "test_accuracy = np.empty(len(neighbors))\n",
    " \n",
    "# Loop over K values\n",
    "for i, k in enumerate(neighbors):\n",
    "    knn = KNeighborsClassifier(n_neighbors=k)\n",
    "    knn.fit(X_train, y_train)\n",
    "     \n",
    "    # Compute training and test data accuracy\n",
    "    train_accuracy[i] = knn.score(X_train, y_train)\n",
    "    test_accuracy[i] = knn.score(X_test, y_test)\n",
    " \n",
    "\n",
    " # Generate plot\n",
    "plt.plot(neighbors, test_accuracy, label = 'Testing dataset Accuracy')\n",
    "plt.plot(neighbors, train_accuracy, label = 'Training dataset Accuracy')\n",
    " \n",
    "plt.legend()\n",
    "plt.title('Accuracy Scores with Changing Nearest Neigbors')\n",
    "plt.xlabel('n_neighbors')\n",
    "plt.ylabel('Accuracy')\n",
    "plt.show()"
   ]
  },
  {
   "cell_type": "code",
   "execution_count": 111,
   "id": "20be1821-1df3-4807-ad7d-ba292192a417",
   "metadata": {},
   "outputs": [
    {
     "name": "stdout",
     "output_type": "stream",
     "text": [
      "Cross-validation scores:[0.60303301 0.60258698 0.60104089 0.60847584 0.59925651]\n",
      "Average cross-validation score: 0.6029\n"
     ]
    }
   ],
   "source": [
    "from sklearn.model_selection import cross_val_score\n",
    "scores = cross_val_score(knn, X_train, y_train, cv = 5, scoring='accuracy')\n",
    "\n",
    "print('Cross-validation scores:{}'.format(scores))\n",
    "print('Average cross-validation score: {:.4f}'.format(scores.mean()))"
   ]
  },
  {
   "cell_type": "markdown",
   "id": "19ee1064-dde4-4bb8-83c6-afd5a231691e",
   "metadata": {},
   "source": [
    "#### KNN with Oversampling"
   ]
  },
  {
   "cell_type": "code",
   "execution_count": 112,
   "id": "36a53228-f506-4ded-8f48-f00b2e63aaad",
   "metadata": {},
   "outputs": [
    {
     "name": "stdout",
     "output_type": "stream",
     "text": [
      "Cross-validation scores:[0.72283744 0.7180023  0.7197785  0.71695748 0.72416675]\n",
      "Average cross-validation score: 0.7203\n"
     ]
    }
   ],
   "source": [
    "scores = cross_val_score(knn, X_train_o, y_train_o, cv = 5, scoring='accuracy')\n",
    "\n",
    "print('Cross-validation scores:{}'.format(scores))\n",
    "print('Average cross-validation score: {:.4f}'.format(scores.mean()))"
   ]
  },
  {
   "cell_type": "markdown",
   "id": "ec22e8ac-fb7a-4356-9fcd-cd1f8b25e1a9",
   "metadata": {},
   "source": [
    "### Using Neural Networks for Regression "
   ]
  },
  {
   "cell_type": "code",
   "execution_count": 45,
   "id": "34878225-5a28-4970-a14b-f332ce61623d",
   "metadata": {},
   "outputs": [],
   "source": [
    "#Report Libraries\n",
    "#Import libraries \n",
    "from keras.layers import Dense, Activation\n",
    "from keras.models import Sequential\n",
    "from sklearn.preprocessing import StandardScaler\n",
    "from sklearn.metrics import mean_squared_error\n",
    "\n",
    "from sklearn.ensemble import RandomForestRegressor\n",
    "from sklearn.model_selection import train_test_split\n",
    "from sklearn.feature_selection import RFECV\n",
    "import matplotlib.pyplot as plt\n",
    "\n",
    "from sklearn import linear_model\n",
    "from sklearn.preprocessing import MinMaxScaler\n",
    "from sklearn.metrics import mean_squared_error"
   ]
  },
  {
   "cell_type": "code",
   "execution_count": 46,
   "id": "55356e3b-aa27-4bc3-8528-e6b769222c60",
   "metadata": {},
   "outputs": [
    {
     "name": "stderr",
     "output_type": "stream",
     "text": [
      "2021-12-10 00:25:28.983378: I tensorflow/stream_executor/cuda/cuda_gpu_executor.cc:937] successful NUMA node read from SysFS had negative value (-1), but there must be at least one NUMA node, so returning NUMA node zero\n",
      "2021-12-10 00:25:28.983785: I tensorflow/stream_executor/cuda/cuda_gpu_executor.cc:937] successful NUMA node read from SysFS had negative value (-1), but there must be at least one NUMA node, so returning NUMA node zero\n",
      "2021-12-10 00:25:28.987440: I tensorflow/stream_executor/cuda/cuda_gpu_executor.cc:937] successful NUMA node read from SysFS had negative value (-1), but there must be at least one NUMA node, so returning NUMA node zero\n",
      "2021-12-10 00:25:28.987821: I tensorflow/stream_executor/cuda/cuda_gpu_executor.cc:937] successful NUMA node read from SysFS had negative value (-1), but there must be at least one NUMA node, so returning NUMA node zero\n",
      "2021-12-10 00:25:28.988587: I tensorflow/stream_executor/cuda/cuda_gpu_executor.cc:937] successful NUMA node read from SysFS had negative value (-1), but there must be at least one NUMA node, so returning NUMA node zero\n",
      "2021-12-10 00:25:28.988931: I tensorflow/stream_executor/cuda/cuda_gpu_executor.cc:937] successful NUMA node read from SysFS had negative value (-1), but there must be at least one NUMA node, so returning NUMA node zero\n"
     ]
    }
   ],
   "source": [
    "import tensorflow as tf\n",
    "tf.config.set_visible_devices(tf.config.get_visible_devices()[0:1])"
   ]
  },
  {
   "cell_type": "code",
   "execution_count": 115,
   "id": "c1a27942-2fab-44a4-a129-5df149464b6c",
   "metadata": {},
   "outputs": [],
   "source": [
    "y =(df_final['funding_amount']).values\n",
    "y = y.reshape(-1,1)\n",
    "X = (df_final[[\"start_year\", \"duration\", \"end_year\", \"abstract_len\", \"title_len\", \"no_researchers\", 'funder_Directorate for Geosciences', \"is_academic\",\n",
    "              'is_top_twenty', 'funder_Directorate for Engineering']]).values"
   ]
  },
  {
   "cell_type": "code",
   "execution_count": 116,
   "id": "e5bc3c55-e6a6-4610-8b6e-20599b95ece2",
   "metadata": {},
   "outputs": [],
   "source": [
    "target_scaler = MinMaxScaler()\n",
    "target_scaler.fit(y)\n",
    "\n",
    "# transform target variables\n",
    "y = target_scaler.transform(y)"
   ]
  },
  {
   "cell_type": "code",
   "execution_count": 117,
   "id": "3c72c28f-862b-4d6d-88cd-ac56882ca702",
   "metadata": {},
   "outputs": [],
   "source": [
    "#split dataset into training and test sets\n",
    "X_train, X_test, y_train, y_test = train_test_split(X, y, test_size = 0.33)"
   ]
  },
  {
   "cell_type": "code",
   "execution_count": 118,
   "id": "41ea02db-1d1f-4240-a251-7aa5ad0a8e65",
   "metadata": {},
   "outputs": [],
   "source": [
    "#Transform data \n",
    "sc = StandardScaler()\n",
    "X_train = sc.fit_transform(X_train)\n",
    "X_test = sc.transform(X_test)"
   ]
  },
  {
   "cell_type": "code",
   "execution_count": 119,
   "id": "b91b32f4-185e-4f33-b741-ee10cd0044e0",
   "metadata": {},
   "outputs": [],
   "source": [
    "# Initialising the ANN\n",
    "model = Sequential()\n",
    "\n",
    "# Adding the input layer and the first hidden layer\n",
    "model.add(Dense(50, activation = 'relu', input_dim = X_train.shape[1]))\n",
    "\n",
    "# Adding the second hidden layer\n",
    "model.add(Dense(units = 25, activation = 'relu'))\n",
    "\n",
    "# # Adding the third hidden layer\n",
    "# model.add(Dense(units = 27, activation = 'relu'))\n",
    "\n",
    "# Adding the output layer\n",
    "model.add(Dense(units = 1,activation = 'linear'))"
   ]
  },
  {
   "cell_type": "code",
   "execution_count": 120,
   "id": "cc14e76f-d4de-4da4-b2ec-b22de947109e",
   "metadata": {},
   "outputs": [
    {
     "name": "stdout",
     "output_type": "stream",
     "text": [
      "Model: \"sequential_1\"\n",
      "_________________________________________________________________\n",
      "Layer (type)                 Output Shape              Param #   \n",
      "=================================================================\n",
      "dense_3 (Dense)              (None, 50)                550       \n",
      "_________________________________________________________________\n",
      "dense_4 (Dense)              (None, 25)                1275      \n",
      "_________________________________________________________________\n",
      "dense_5 (Dense)              (None, 1)                 26        \n",
      "=================================================================\n",
      "Total params: 1,851\n",
      "Trainable params: 1,851\n",
      "Non-trainable params: 0\n",
      "_________________________________________________________________\n"
     ]
    }
   ],
   "source": [
    "model.summary()"
   ]
  },
  {
   "cell_type": "code",
   "execution_count": 121,
   "id": "8649288b-80c8-4120-ba44-77fe0c6233cf",
   "metadata": {},
   "outputs": [],
   "source": [
    "model.compile(optimizer = 'adam',loss = 'mse')"
   ]
  },
  {
   "cell_type": "code",
   "execution_count": 122,
   "id": "271f9d28-6566-4fd1-96d1-e37e30fd3323",
   "metadata": {},
   "outputs": [
    {
     "name": "stdout",
     "output_type": "stream",
     "text": [
      "Epoch 1/10\n",
      "515/515 [==============================] - 1s 741us/step - loss: 0.0088 - val_loss: 0.0014\n",
      "Epoch 2/10\n",
      "515/515 [==============================] - 0s 658us/step - loss: 9.8419e-04 - val_loss: 7.7550e-04\n",
      "Epoch 3/10\n",
      "515/515 [==============================] - 0s 636us/step - loss: 5.8049e-04 - val_loss: 4.7665e-04\n",
      "Epoch 4/10\n",
      "515/515 [==============================] - 0s 640us/step - loss: 4.0106e-04 - val_loss: 3.2395e-04\n",
      "Epoch 5/10\n",
      "515/515 [==============================] - 0s 625us/step - loss: 3.0324e-04 - val_loss: 2.4494e-04\n",
      "Epoch 6/10\n",
      "515/515 [==============================] - 0s 635us/step - loss: 2.4714e-04 - val_loss: 1.8970e-04\n",
      "Epoch 7/10\n",
      "515/515 [==============================] - 0s 642us/step - loss: 2.0555e-04 - val_loss: 1.8810e-04\n",
      "Epoch 8/10\n",
      "515/515 [==============================] - 0s 621us/step - loss: 1.7537e-04 - val_loss: 1.2525e-04\n",
      "Epoch 9/10\n",
      "515/515 [==============================] - 0s 615us/step - loss: 1.5442e-04 - val_loss: 1.2441e-04\n",
      "Epoch 10/10\n",
      "515/515 [==============================] - 0s 622us/step - loss: 1.3636e-04 - val_loss: 9.5384e-05\n"
     ]
    }
   ],
   "source": [
    "history = model.fit(X_train, y_train, epochs= 10, batch_size= 50,  verbose=1, validation_split=0.2)"
   ]
  },
  {
   "cell_type": "code",
   "execution_count": 123,
   "id": "5e55177a-b814-45fa-b701-51119c0c93ed",
   "metadata": {},
   "outputs": [
    {
     "data": {
      "image/png": "[encoded data removed]",
      "text/plain": [
       "<Figure size 432x288 with 1 Axes>"
      ]
     },
     "metadata": {
      "needs_background": "light"
     },
     "output_type": "display_data"
    }
   ],
   "source": [
    "# \"Loss\"\n",
    "plt.plot(history.history['loss'])\n",
    "plt.plot(history.history['val_loss'])\n",
    "plt.title('Neural Net Model Loss')\n",
    "plt.ylabel('loss')\n",
    "plt.xlabel('epoch')\n",
    "plt.legend(['train', 'validation'], loc='upper left')\n",
    "plt.show()"
   ]
  },
  {
   "cell_type": "code",
   "execution_count": 124,
   "id": "21fcf26d-f64e-4416-b3b6-93b538f35fef",
   "metadata": {},
   "outputs": [],
   "source": [
    "y_pred = model.predict(X_test)"
   ]
  },
  {
   "cell_type": "code",
   "execution_count": 125,
   "id": "da0905a6-a7ac-40f9-bfbe-a60436c79732",
   "metadata": {},
   "outputs": [],
   "source": [
    "# invert transform on predictions\n",
    "y_pred = target_scaler.inverse_transform(y_pred)\n",
    "y_test = target_scaler.inverse_transform(y_test)"
   ]
  },
  {
   "cell_type": "code",
   "execution_count": 126,
   "id": "1fed6976-e174-42cf-8874-d06a3039a1c2",
   "metadata": {},
   "outputs": [
    {
     "data": {
      "text/plain": [
       "24399974319406.0"
      ]
     },
     "execution_count": 126,
     "metadata": {},
     "output_type": "execute_result"
    }
   ],
   "source": [
    "mean_squared_error(y_test, y_pred)"
   ]
  },
  {
   "cell_type": "code",
   "execution_count": 127,
   "id": "3fec7e79-9eb0-44a3-86fd-6a697f698e82",
   "metadata": {},
   "outputs": [
    {
     "data": {
      "image/png": "[encoded data removed]",
      "text/plain": [
       "<Figure size 432x288 with 1 Axes>"
      ]
     },
     "metadata": {
      "needs_background": "light"
     },
     "output_type": "display_data"
    }
   ],
   "source": [
    "plt.plot(y_test[0:30], color = 'red', label = 'Real Funding Awarded')\n",
    "plt.plot(y_pred[0:30], color = 'blue', label = 'Predicted Funding')\n",
    "plt.title('Actual Funding Received vs Predicted Funding')\n",
    "plt.legend()\n",
    "plt.show()"
   ]
  },
  {
   "cell_type": "markdown",
   "id": "bb96a384-4842-4461-8376-3edce047d222",
   "metadata": {},
   "source": [
    "### Feature Selection (Regression) with Decision Trees"
   ]
  },
  {
   "cell_type": "code",
   "execution_count": 128,
   "id": "855fa889-1308-4fd5-82d2-eef80f0e831b",
   "metadata": {},
   "outputs": [],
   "source": [
    "features = (df_final.copy().drop([\"funding_bin_1\", \"funding_bin_2\", \"funding_amount\"], axis = 1)).columns"
   ]
  },
  {
   "cell_type": "code",
   "execution_count": 129,
   "id": "ce3dc4a6-f717-4239-8dd5-13a28c29e2a2",
   "metadata": {},
   "outputs": [],
   "source": [
    "y =(df_final['funding_amount']).values\n",
    "X = (df_final.copy().drop([\"funding_bin_1\", \"funding_bin_2\", \"funding_amount\"], axis = 1)).values"
   ]
  },
  {
   "cell_type": "code",
   "execution_count": 65,
   "id": "5c4e48dd-8ebe-4388-84e9-25cece642f2b",
   "metadata": {},
   "outputs": [],
   "source": [
    "X_train, X_test, y_train, y_test = train_test_split( X, y, test_size=0.33)"
   ]
  },
  {
   "cell_type": "code",
   "execution_count": 66,
   "id": "df85e753-e4ce-4f35-852b-9b90abe8aa02",
   "metadata": {},
   "outputs": [
    {
     "data": {
      "text/plain": [
       "RandomForestRegressor(random_state=0)"
      ]
     },
     "execution_count": 66,
     "metadata": {},
     "output_type": "execute_result"
    }
   ],
   "source": [
    "rf = RandomForestRegressor(random_state=0)\n",
    "rf.fit(X_train,y_train)"
   ]
  },
  {
   "cell_type": "code",
   "execution_count": 67,
   "id": "bacb5f85-e35e-41a1-bafd-2140dbb002de",
   "metadata": {},
   "outputs": [
    {
     "data": {
      "image/png": "[encoded data removed]",
      "text/plain": [
       "<Figure size 432x288 with 1 Axes>"
      ]
     },
     "metadata": {
      "needs_background": "light"
     },
     "output_type": "display_data"
    }
   ],
   "source": [
    "f_i = list(zip(features,rf.feature_importances_))\n",
    "f_i.sort(key = lambda x : x[1])\n",
    "plt.barh([x[0] for x in f_i],[x[1] for x in f_i])\n",
    "\n",
    "plt.show()"
   ]
  },
  {
   "cell_type": "code",
   "execution_count": 68,
   "id": "660d557d-6d52-4c82-809c-ac39d72109e5",
   "metadata": {},
   "outputs": [
    {
     "data": {
      "text/plain": [
       "RFECV(cv=2, estimator=RandomForestRegressor(random_state=0),\n",
       "      scoring='neg_mean_squared_error')"
      ]
     },
     "execution_count": 68,
     "metadata": {},
     "output_type": "execute_result"
    }
   ],
   "source": [
    "rfe = RFECV(rf,cv=2,scoring=\"neg_mean_squared_error\")\n",
    "\n",
    "rfe.fit(X_train,y_train)"
   ]
  },
  {
   "cell_type": "code",
   "execution_count": 69,
   "id": "ae25d393-f0b8-481c-8bd9-163eb6c9ea20",
   "metadata": {},
   "outputs": [],
   "source": [
    "selected_features = np.array(features)[rfe.get_support()]"
   ]
  },
  {
   "cell_type": "markdown",
   "id": "606bbcd6-ca0d-4690-b897-98c8e5cf5f0f",
   "metadata": {},
   "source": [
    "#### Multiple Linear Regression "
   ]
  },
  {
   "cell_type": "code",
   "execution_count": 130,
   "id": "8328733e-ddc6-46d4-8b83-f2a4c43486d2",
   "metadata": {},
   "outputs": [],
   "source": [
    "linreg = linear_model.LinearRegression()"
   ]
  },
  {
   "cell_type": "code",
   "execution_count": 131,
   "id": "7a2a0fd0-aee9-4e7c-b7ce-d56e0ba2f26e",
   "metadata": {},
   "outputs": [],
   "source": [
    "y =(df_final['funding_amount']).values\n",
    "y = y.reshape(-1,1)\n",
    "\n",
    "X = (df_final[[\"start_year\", \"duration\", \"end_year\", \"abstract_len\", \"title_len\", \"no_researchers\", 'funder_Directorate for Geosciences', \"is_academic\",\n",
    "              'is_top_twenty', 'funder_Directorate for Engineering']]).values"
   ]
  },
  {
   "cell_type": "code",
   "execution_count": 132,
   "id": "366a61e6-1e50-41fd-bf30-5a9440889ec2",
   "metadata": {},
   "outputs": [],
   "source": [
    "target_scaler = MinMaxScaler()\n",
    "target_scaler.fit(y)\n",
    "\n",
    "# transform target variables\n",
    "y = target_scaler.transform(y)"
   ]
  },
  {
   "cell_type": "code",
   "execution_count": 133,
   "id": "d43bf98c-8190-4cce-ae76-9afebf09f174",
   "metadata": {},
   "outputs": [],
   "source": [
    "X_train, X_test, y_train, y_test = train_test_split( X, y, test_size=0.30)"
   ]
  },
  {
   "cell_type": "code",
   "execution_count": 134,
   "id": "3d5a6550-44cf-4cd3-a8e4-89fc93bb5199",
   "metadata": {},
   "outputs": [],
   "source": [
    "linreg.fit(X_train, y_train)\n",
    "\n",
    "y_predict = linreg.predict(X_test)"
   ]
  },
  {
   "cell_type": "code",
   "execution_count": 135,
   "id": "2d10727c-1e1c-41af-a088-1f8216c50d84",
   "metadata": {},
   "outputs": [],
   "source": [
    "# invert transform on predictions\n",
    "y_predict = target_scaler.inverse_transform(y_predict)\n",
    "y_test = target_scaler.inverse_transform(y_test)"
   ]
  },
  {
   "cell_type": "code",
   "execution_count": 136,
   "id": "8cb30eb7-2d8e-4192-8be3-5b44a0e4f8f5",
   "metadata": {},
   "outputs": [
    {
     "data": {
      "text/plain": [
       "4899932387687.01"
      ]
     },
     "execution_count": 136,
     "metadata": {},
     "output_type": "execute_result"
    }
   ],
   "source": [
    "mean_squared_error(y_test, y_predict)"
   ]
  },
  {
   "cell_type": "code",
   "execution_count": 137,
   "id": "3bf3dd29-5d56-4a13-8f66-077d943e3811",
   "metadata": {},
   "outputs": [
    {
     "data": {
      "image/png": "[encoded data removed]",
      "text/plain": [
       "<Figure size 432x288 with 1 Axes>"
      ]
     },
     "metadata": {
      "needs_background": "light"
     },
     "output_type": "display_data"
    }
   ],
   "source": [
    "plt.plot(y_test[0:30], color = 'red', label = 'Real Funding Awarded')\n",
    "plt.plot(y_predict[0:30], color = 'blue', label = 'Predicted Funding')\n",
    "plt.title('Actual Funding Received vs Predicted Funding')\n",
    "plt.legend()\n",
    "plt.show()"
   ]
  },
  {
   "cell_type": "code",
   "execution_count": null,
   "id": "a99c6eae-c865-42e7-a459-5efe9443995e",
   "metadata": {},
   "outputs": [],
   "source": []
  }
 ],
 "metadata": {
  "kernelspec": {
   "display_name": "Python 3 (ipykernel)",
   "language": "python",
   "name": "python3"
  },
  "language_info": {
   "codemirror_mode": {
    "name": "ipython",
    "version": 3
   },
   "file_extension": ".py",
   "mimetype": "text/x-python",
   "name": "python",
   "nbconvert_exporter": "python",
   "pygments_lexer": "ipython3",
   "version": "3.9.7"
  }
 },
 "nbformat": 4,
 "nbformat_minor": 5
}
